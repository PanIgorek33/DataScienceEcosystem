{
 "cells": [
  {
   "cell_type": "markdown",
   "id": "a5be8474-80fb-4cd3-a904-7d6de78668da",
   "metadata": {},
   "source": [
    "# Data Science Tools and Ecosystem"
   ]
  },
  {
   "cell_type": "markdown",
   "id": "b25f3f7f-0a0c-4a1a-909d-7130117719ea",
   "metadata": {},
   "source": [
    "In this notebook, Data Science Tools and Ecosystem are summarized."
   ]
  },
  {
   "cell_type": "markdown",
   "id": "f57b2051-be95-4dcd-9d2d-9d6764de9a95",
   "metadata": {},
   "source": [
    "__Objectives:__\n",
    "- List popular languages for Data Science\n",
    "- List commonlly used libraries used by Data Scientists\n",
    "- Creating tables\n",
    "- Using code and markdowns cells"
   ]
  },
  {
   "cell_type": "markdown",
   "id": "caccc269-2825-4cc2-8b31-5b80ef374666",
   "metadata": {},
   "source": [
    "Some of the popular languages that Data Scientists use are:\n",
    "\n",
    "1. Python\n",
    "2. R\n",
    "3. SQL"
   ]
  },
  {
   "cell_type": "markdown",
   "id": "98893928-42a0-40aa-98cd-b2c8f611f03b",
   "metadata": {},
   "source": [
    "Some of the commonly used libraries used by Data Scientists include:\n",
    "1. NumPy\n",
    "2. Pandas\n",
    "3. Dask\n",
    "4. Plotly"
   ]
  },
  {
   "cell_type": "markdown",
   "id": "3750cc48-ad8f-4203-bc32-382ec5a76ca0",
   "metadata": {},
   "source": [
    "|Data Science Tools|\n",
    "|------------------|\n",
    "|Jupyter Notebook|\n",
    "|RStudio|\n",
    "|Apache Zeppelin|\n",
    "\n"
   ]
  },
  {
   "cell_type": "markdown",
   "id": "6cce690f-6e1f-471f-a0db-bfd8386ad5fd",
   "metadata": {},
   "source": [
    "### Below are a few examples of evaluating arithmetic expressions in Python.\n",
    "\n"
   ]
  },
  {
   "cell_type": "code",
   "execution_count": 14,
   "id": "1f5adfd3-152d-46f2-b1fb-545c8d9af4cf",
   "metadata": {},
   "outputs": [
    {
     "data": {
      "text/plain": [
       "17"
      ]
     },
     "execution_count": 14,
     "metadata": {},
     "output_type": "execute_result"
    }
   ],
   "source": [
    "# This a simple arithmetic expression to mutiply then add integers\n",
    "\n",
    "(3*4)+5"
   ]
  },
  {
   "cell_type": "code",
   "execution_count": 19,
   "id": "5bcd6a96-145e-4093-9675-932d512c79f3",
   "metadata": {},
   "outputs": [
    {
     "name": "stdout",
     "output_type": "stream",
     "text": [
      "200 minutes is 3 hours and 20 minutes.\n"
     ]
    }
   ],
   "source": [
    "#This will convert 200 minutes to hours by diving by 60\n",
    "minutes = 200 \n",
    "hours = minutes //60\n",
    "remaining_minutes = minutes % 60\n",
    "print(f\"{minutes} minutes is {hours} hours and {remaining_minutes} minutes.\")"
   ]
  },
  {
   "cell_type": "markdown",
   "id": "24cb084b-d76c-4bac-aac2-e930a2b1e2ef",
   "metadata": {},
   "source": [
    "## Author:\n",
    "Igor Prorok"
   ]
  },
  {
   "cell_type": "code",
   "execution_count": null,
   "id": "2cc798f2-175b-4ff1-b85c-9ba14ba26b1a",
   "metadata": {},
   "outputs": [],
   "source": []
  }
 ],
 "metadata": {
  "kernelspec": {
   "display_name": "Python 3 (ipykernel)",
   "language": "python",
   "name": "python3"
  },
  "language_info": {
   "codemirror_mode": {
    "name": "ipython",
    "version": 3
   },
   "file_extension": ".py",
   "mimetype": "text/x-python",
   "name": "python",
   "nbconvert_exporter": "python",
   "pygments_lexer": "ipython3",
   "version": "3.12.7"
  }
 },
 "nbformat": 4,
 "nbformat_minor": 5
}
